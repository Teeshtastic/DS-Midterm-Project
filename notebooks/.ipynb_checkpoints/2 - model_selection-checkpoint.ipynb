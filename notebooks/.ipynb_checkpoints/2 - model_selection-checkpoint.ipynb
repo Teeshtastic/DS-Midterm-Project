{
 "cells": [
  {
   "cell_type": "markdown",
   "metadata": {},
   "source": [
    "## Model Selection\n",
    "\n",
    "This notebook should include preliminary and baseline modeling.\n",
    "- Try as many different models as possible.\n",
    "- Don't worry about hyperparameter tuning or cross validation here.\n",
    "- Ideas include:\n",
    "    - linear regression\n",
    "    - support vector machines\n",
    "    - random forest\n",
    "    - xgboost"
   ]
  },
  {
   "cell_type": "markdown",
   "metadata": {},
   "source": [
    "### Linear Regression"
   ]
  },
  {
   "cell_type": "code",
   "execution_count": 1,
   "metadata": {},
   "outputs": [],
   "source": [
    "# import models and fit\n",
    "import pandas as pd\n",
    "from sklearn.model_selection import train_test_split\n",
    "from sklearn.linear_model import LinearRegression\n",
    "from sklearn.metrics import mean_squared_error, r2_score"
   ]
  },
  {
   "cell_type": "code",
   "execution_count": 2,
   "metadata": {},
   "outputs": [],
   "source": [
    "df = pd.read_csv('data/processed/df_scaled.csv')"
   ]
  },
  {
   "cell_type": "code",
   "execution_count": 3,
   "metadata": {},
   "outputs": [
    {
     "name": "stdout",
     "output_type": "stream",
     "text": [
      "tags                     object\n",
      "permalink                object\n",
      "status                   object\n",
      "list_date                object\n",
      "description              object\n",
      "branding                 object\n",
      "lead_attributes          object\n",
      "property_id               int64\n",
      "photos                   object\n",
      "flags                    object\n",
      "community                object\n",
      "virtual_tours            object\n",
      "listing_id              float64\n",
      "price_reduced_amount    float64\n",
      "location                 object\n",
      "matterport                 bool\n",
      "city                     object\n",
      "state                    object\n",
      "Sold Price              float64\n",
      "sold_price              float64\n",
      "log_price               float64\n",
      "dtype: object\n"
     ]
    }
   ],
   "source": [
    "X = df.drop(columns=['sold_price'])  # features\n",
    "y = df['sold_price']                # target variable\n",
    "print(df.dtypes)"
   ]
  },
  {
   "cell_type": "code",
   "execution_count": 4,
   "metadata": {},
   "outputs": [
    {
     "name": "stdout",
     "output_type": "stream",
     "text": [
      "tags                    ['carport', 'community_outdoor_space', 'cul_de...\n",
      "permalink                    9453-Herbert-Pl_Juneau_AK_99801_M90744-30767\n",
      "status                                                               sold\n",
      "list_date                                     2023-06-29T21:16:25.000000Z\n",
      "description             {'year_built': 1963, 'baths_3qtr': None, 'sold...\n",
      "branding                [{'name': 'EXP Realty LLC - Southeast Alaska',...\n",
      "lead_attributes                           {'show_contact_an_agent': True}\n",
      "property_id                                                    9074430767\n",
      "photos                  [{'tags': [{'label': 'house_view', 'probabilit...\n",
      "flags                   {'is_new_construction': None, 'is_for_rent': N...\n",
      "community                                                             NaN\n",
      "virtual_tours                                                           0\n",
      "listing_id                                                   2957241843.0\n",
      "price_reduced_amount                                             0.914397\n",
      "location                {'address': {'postal_code': '99801', 'state': ...\n",
      "matterport                                                          False\n",
      "city                                                               Juneau\n",
      "state                                                              Alaska\n",
      "Sold Price                                                            NaN\n",
      "sold_price                                                            NaN\n",
      "log_price                                                             NaN\n",
      "Name: 0, dtype: object\n"
     ]
    }
   ],
   "source": [
    "print(df.iloc[0])"
   ]
  },
  {
   "cell_type": "code",
   "execution_count": 5,
   "metadata": {},
   "outputs": [],
   "source": [
    "# tags nested in dict columns or stringified object; search all columns and extract tags\n",
    "def extract_tags_from_row(row):\n",
    "    for col in row.index:\n",
    "        value = row[col]\n",
    "        if isinstance(value, dict) and 'tags' in value:\n",
    "            return value['tags']\n",
    "    return None\n",
    "\n",
    "# apply across rows\n",
    "df['tags'] = df.apply(extract_tags_from_row, axis=1)"
   ]
  },
  {
   "cell_type": "code",
   "execution_count": 6,
   "metadata": {},
   "outputs": [],
   "source": [
    "# handle tag lists OHE\n",
    "from sklearn.preprocessing import MultiLabelBinarizer\n",
    "import pandas as pd\n",
    "\n",
    "# drop NaNs in tags\n",
    "df['tags'] = df['tags'].dropna()\n",
    "\n",
    "# OHE encode tags\n",
    "mlb = MultiLabelBinarizer()\n",
    "tag_dummies = pd.DataFrame(mlb.fit_transform(df['tags'].dropna()), columns=mlb.classes_)\n",
    "\n",
    "# reindex match df\n",
    "tag_dummies.index = df['tags'].dropna().index\n",
    "\n",
    "# merge into original DataFrame\n",
    "df = pd.concat([df, tag_dummies], axis=1)"
   ]
  },
  {
   "cell_type": "code",
   "execution_count": 7,
   "metadata": {},
   "outputs": [],
   "source": [
    "# prepare features and target\n",
    "# X = all columns except the target\n",
    "X = df.drop(columns=['Sold Price'])\n",
    "\n",
    "# y = target column\n",
    "y = df['Sold Price']"
   ]
  },
  {
   "cell_type": "code",
   "execution_count": 8,
   "metadata": {},
   "outputs": [
    {
     "name": "stdout",
     "output_type": "stream",
     "text": [
      "Index(['tags', 'permalink', 'status', 'list_date', 'description', 'branding',\n",
      "       'lead_attributes', 'photos', 'flags', 'community', 'virtual_tours',\n",
      "       'location', 'city', 'state'],\n",
      "      dtype='object')\n"
     ]
    }
   ],
   "source": [
    "print(X.select_dtypes(include=['object']).columns)"
   ]
  },
  {
   "cell_type": "code",
   "execution_count": 9,
   "metadata": {},
   "outputs": [],
   "source": [
    "X = X.drop(columns=['tags', 'permalink', 'status', 'list_date', 'description', 'branding',\n",
    "       'lead_attributes', 'photos', 'flags', 'community', 'virtual_tours',\n",
    "       'location', 'city', 'state'])"
   ]
  },
  {
   "cell_type": "code",
   "execution_count": 10,
   "metadata": {},
   "outputs": [
    {
     "name": "stdout",
     "output_type": "stream",
     "text": [
      "property_id                0\n",
      "listing_id               407\n",
      "price_reduced_amount       0\n",
      "matterport                 0\n",
      "sold_price              1443\n",
      "log_price               1443\n",
      "dtype: int64\n"
     ]
    }
   ],
   "source": [
    "print(X.isna().sum())"
   ]
  },
  {
   "cell_type": "code",
   "execution_count": 11,
   "metadata": {},
   "outputs": [],
   "source": [
    "#fill missing values using mean\n",
    "X = X.fillna(X.mean())\n",
    "\n",
    "# calculate mean of y ignoring NaNs\n",
    "mean_y = y.mean()\n",
    "\n",
    "# replace NaNs in y with mean\n",
    "y_filled = y.fillna(mean_y)"
   ]
  },
  {
   "cell_type": "code",
   "execution_count": 12,
   "metadata": {},
   "outputs": [
    {
     "name": "stdout",
     "output_type": "stream",
     "text": [
      "LinearRegression()\n"
     ]
    }
   ],
   "source": [
    "from sklearn.model_selection import train_test_split\n",
    "from sklearn.linear_model import LinearRegression\n",
    "\n",
    "#train/test split\n",
    "X_train, X_test, y_train, y_test = train_test_split(X, y_filled, test_size=0.2, random_state=42)\n",
    "\n",
    "model = LinearRegression()\n",
    "model.fit(X_train, y_train)\n",
    "print(model)"
   ]
  },
  {
   "cell_type": "code",
   "execution_count": 13,
   "metadata": {},
   "outputs": [
    {
     "name": "stdout",
     "output_type": "stream",
     "text": [
      "Mean Squared Error (MSE): 0.00\n",
      "Root Mean Squared Error (RMSE): 0.00\n",
      "R² Score (Coefficient of Determination): 1.00\n"
     ]
    }
   ],
   "source": [
    "#evaluate model \n",
    "from sklearn.metrics import mean_squared_error, r2_score\n",
    "\n",
    "y_pred = model.predict(X_test)\n",
    "\n",
    "mse = mean_squared_error(y_test, y_pred)\n",
    "r2 = r2_score(y_test, y_pred)\n",
    "\n",
    "print(f\"Mean Squared Error (MSE): {mse:.2f}\")\n",
    "print(f\"Root Mean Squared Error (RMSE): {mse**0.5:.2f}\")\n",
    "print(f\"R² Score (Coefficient of Determination): {r2:.2f}\")"
   ]
  },
  {
   "cell_type": "code",
   "execution_count": 14,
   "metadata": {},
   "outputs": [
    {
     "ename": "NameError",
     "evalue": "name 'regressor' is not defined",
     "output_type": "error",
     "traceback": [
      "\u001b[0;31m---------------------------------------------------------------------------\u001b[0m",
      "\u001b[0;31mNameError\u001b[0m                                 Traceback (most recent call last)",
      "Cell \u001b[0;32mIn[14], line 5\u001b[0m\n\u001b[1;32m      2\u001b[0m X \u001b[38;5;241m=\u001b[39m X\u001b[38;5;241m.\u001b[39mloc[not_nan_mask]\n\u001b[1;32m      3\u001b[0m y \u001b[38;5;241m=\u001b[39m y\u001b[38;5;241m.\u001b[39mloc[not_nan_mask]\n\u001b[0;32m----> 5\u001b[0m \u001b[38;5;28mprint\u001b[39m(\u001b[43mregressor\u001b[49m\u001b[38;5;241m.\u001b[39mcoef_) \u001b[38;5;66;03m#NumPy array with beta coefficients\u001b[39;00m\n",
      "\u001b[0;31mNameError\u001b[0m: name 'regressor' is not defined"
     ]
    }
   ],
   "source": [
    "not_nan_mask = y.notna()\n",
    "X = X.loc[not_nan_mask]\n",
    "y = y.loc[not_nan_mask]\n",
    "\n",
    "print(regressor.coef_) #NumPy array with beta coefficients"
   ]
  },
  {
   "cell_type": "code",
   "execution_count": null,
   "metadata": {},
   "outputs": [],
   "source": [
    "#feature importance (coefficients); positive coefficients increase the predicted price; negative coefficients decrease it; understand drivers of price.\n",
    "import pandas as pd\n",
    "\n",
    "coefficients = pd.Series(model.coef_, index=X.columns)\n",
    "coefficients = coefficients.sort_values(ascending=False)\n",
    "\n",
    "print(\"Top positive features:\")\n",
    "print(coefficients.head(10))\n",
    "\n",
    "print(\"\\nTop negative features:\")\n",
    "print(coefficients.tail(10))"
   ]
  },
  {
   "cell_type": "code",
   "execution_count": null,
   "metadata": {},
   "outputs": [],
   "source": [
    "#visualize results Actrual vs Predicated prices \n",
    "import matplotlib.pyplot as plt\n",
    "\n",
    "plt.scatter(y_test, y_pred, alpha=0.6)\n",
    "plt.plot([y_test.min(), y_test.max()], [y_test.min(), y_test.max()], 'r--')\n",
    "plt.xlabel(\"Actual Sold Price\")\n",
    "plt.ylabel(\"Predicted Sold Price\")\n",
    "plt.title(\"Actual vs Predicted Sold Prices\")\n",
    "plt.show()"
   ]
  },
  {
   "cell_type": "code",
   "execution_count": null,
   "metadata": {},
   "outputs": [],
   "source": [
    "# visualize Residual Plot\n",
    "residuals = y_test - y_pred\n",
    "\n",
    "plt.scatter(y_pred, residuals, alpha=0.6)\n",
    "plt.axhline(0, color='red', linestyle='--')\n",
    "plt.xlabel(\"Predicted Sold Price\")\n",
    "plt.ylabel(\"Residuals (Actual - Predicted)\")\n",
    "plt.title(\"Residuals vs Predicted Prices\")\n",
    "plt.show()"
   ]
  },
  {
   "cell_type": "markdown",
   "metadata": {},
   "source": [
    "Consider what metrics you want to use to evaluate success.\n",
    "- If you think about mean squared error, can we actually relate to the amount of error?\n",
    "- Try root mean squared error so that error is closer to the original units (dollars)\n",
    "- What does RMSE do to outliers?\n",
    "- Is mean absolute error a good metric for this problem?\n",
    "- What about R^2? Adjusted R^2?\n",
    "- Briefly describe your reasons for picking the metrics you use"
   ]
  },
  {
   "cell_type": "code",
   "execution_count": null,
   "metadata": {},
   "outputs": [],
   "source": [
    "from sklearn.ensemble import RandomForestRegressor\n",
    "from sklearn.metrics import mean_squared_error, r2_score\n",
    "\n",
    "# Initialize the model\n",
    "rf = RandomForestRegressor(random_state=42)\n",
    "\n",
    "# Train on the training data\n",
    "rf.fit(X_train, y_train)\n",
    "\n",
    "# Predict on test data\n",
    "y_pred_rf = rf.predict(X_test)\n",
    "\n",
    "# Evaluate\n",
    "mse_rf = mean_squared_error(y_test, y_pred_rf)\n",
    "r2_rf = r2_score(y_test, y_pred_rf)\n",
    "\n",
    "print(\"Random Forest Regressor Results:\")\n",
    "print(f\"Mean Squared Error (MSE): {mse_rf:.2f}\")\n",
    "print(f\"Root Mean Squared Error (RMSE): {mse_rf**0.5:.2f}\")\n",
    "print(f\"R² Score: {r2_rf:.2f}\")"
   ]
  },
  {
   "cell_type": "code",
   "execution_count": null,
   "metadata": {},
   "outputs": [],
   "source": []
  },
  {
   "cell_type": "code",
   "execution_count": null,
   "metadata": {},
   "outputs": [],
   "source": []
  },
  {
   "cell_type": "markdown",
   "metadata": {},
   "source": [
    "## Feature Selection - STRETCH\n",
    "\n",
    "> **This step doesn't need to be part of your Minimum Viable Product (MVP), but its recommended you complete it if you have time!**\n",
    "\n",
    "Even with all the preprocessing we did in Notebook 1, you probably still have a lot of features. Are they all important for prediction?\n",
    "\n",
    "Investigate some feature selection algorithms (Lasso, RFE, Forward/Backward Selection)\n",
    "- Perform feature selection to get a reduced subset of your original features\n",
    "- Refit your models with this reduced dimensionality - how does performance change on your chosen metrics?\n",
    "- Based on this, should you include feature selection in your final pipeline? Explain\n",
    "\n",
    "Remember, feature selection often doesn't directly improve performance, but if performance remains the same, a simpler model is often preferrable. \n",
    "\n"
   ]
  },
  {
   "cell_type": "code",
   "execution_count": null,
   "metadata": {},
   "outputs": [],
   "source": [
    "# perform feature selection \n",
    "# refit models\n",
    "# gather evaluation metrics and compare to the previous step (full feature set)"
   ]
  },
  {
   "cell_type": "markdown",
   "metadata": {},
   "source": []
  }
 ],
 "metadata": {
  "kernelspec": {
   "display_name": "testEnv",
   "language": "python",
   "name": "testenv"
  },
  "language_info": {
   "codemirror_mode": {
    "name": "ipython",
    "version": 3
   },
   "file_extension": ".py",
   "mimetype": "text/x-python",
   "name": "python",
   "nbconvert_exporter": "python",
   "pygments_lexer": "ipython3",
   "version": "3.10.17"
  }
 },
 "nbformat": 4,
 "nbformat_minor": 4
}
